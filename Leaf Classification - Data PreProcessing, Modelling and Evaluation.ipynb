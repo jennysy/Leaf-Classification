{
 "cells": [
  {
   "cell_type": "code",
   "execution_count": 131,
   "metadata": {
    "collapsed": false
   },
   "outputs": [],
   "source": [
    "#for data manipulation\n",
    "import pandas as pd\n",
    "import numpy as np\n",
    "#for plotting\n",
    "import matplotlib.pyplot as plt\n",
    "%matplotlib inline\n",
    "import seaborn as sns\n",
    "#for importing files-optional\n",
    "import os\n",
    "#for displaying images\n",
    "from IPython.display import Image\n",
    "#for preprocessing the data\n",
    "from sklearn.preprocessing import StandardScaler, LabelEncoder\n",
    "#for cross-validation\n",
    "from sklearn.cross_validation import StratifiedKFold, train_test_split\n",
    "#for scoring\n",
    "from sklearn.metrics import log_loss\n",
    "#for dimenion reduction\n",
    "from sklearn.decomposition import PCA\n",
    "#for benchmarking\n",
    "from sklearn.neighbors import KNeighborsClassifier\n",
    "#for neural network model building\n",
    "from keras.models import Sequential\n",
    "from keras.layers import Dense,Dropout,Activation\n",
    "from keras.utils.np_utils import to_categorical\n",
    "#for gridsearching\n",
    "from sklearn.grid_search import GridSearchCV\n",
    "from sklearn.metrics import make_scorer"
   ]
  },
  {
   "cell_type": "code",
   "execution_count": 2,
   "metadata": {
    "collapsed": true
   },
   "outputs": [],
   "source": [
    "#identifying the folder to import the files from\n",
    "file_path = 'C:\\\\hudsondata\\\\Machine Learning\\\\Kaggle\\\\Leaves'"
   ]
  },
  {
   "cell_type": "code",
   "execution_count": 3,
   "metadata": {
    "collapsed": true
   },
   "outputs": [],
   "source": [
    "train = pd.read_csv(os.path.join(file_path,'train.csv'))\n",
    "test = pd.read_csv(os.path.join(file_path,'test.csv'))"
   ]
  },
  {
   "cell_type": "markdown",
   "metadata": {},
   "source": [
    "# Data Preprocessing and Validation Split"
   ]
  },
  {
   "cell_type": "markdown",
   "metadata": {},
   "source": [
    "Label Encoding the Response Variable"
   ]
  },
  {
   "cell_type": "code",
   "execution_count": 4,
   "metadata": {
    "collapsed": true
   },
   "outputs": [],
   "source": [
    "#label encoding the species column of the train dataset and assigning to y\n",
    "lespecies = LabelEncoder()\n",
    "lespecies.fit(train['species'])\n",
    "y = lespecies.transform(train['species'])"
   ]
  },
  {
   "cell_type": "code",
   "execution_count": 5,
   "metadata": {
    "collapsed": true
   },
   "outputs": [],
   "source": [
    "#removing the species column from the train dataset\n",
    "species = train.pop('species')"
   ]
  },
  {
   "cell_type": "code",
   "execution_count": 6,
   "metadata": {
    "collapsed": true
   },
   "outputs": [],
   "source": [
    "#setting id column as the index of the dataframe\n",
    "train = train.set_index('id')\n",
    "test = test.set_index('id')"
   ]
  },
  {
   "cell_type": "markdown",
   "metadata": {},
   "source": [
    "Split Train, Test Data to 80/20"
   ]
  },
  {
   "cell_type": "code",
   "execution_count": 8,
   "metadata": {
    "collapsed": true
   },
   "outputs": [],
   "source": [
    "#splitting train data to 80/20 to use 20% as validation set, with y variable stratified\n",
    "X_train, X_test, y_train, y_test = train_test_split(train,y,test_size=0.2,random_state=0, stratify=y)"
   ]
  },
  {
   "cell_type": "markdown",
   "metadata": {},
   "source": [
    "Standardize Data"
   ]
  },
  {
   "cell_type": "code",
   "execution_count": 9,
   "metadata": {
    "collapsed": true
   },
   "outputs": [],
   "source": [
    "#fitting the standardization method to the 80% of the data and using this to transform the 80% of the train and the 20% of validation\n",
    "scaler = StandardScaler()\n",
    "X_train = scaler.fit(X_train).transform(X_train)\n",
    "X_train = pd.DataFrame(X_train)\n",
    "X_test = pd.DataFrame(scaler.transform(X_test))"
   ]
  },
  {
   "cell_type": "markdown",
   "metadata": {},
   "source": [
    "Reduce Dimension via PCA"
   ]
  },
  {
   "cell_type": "code",
   "execution_count": 10,
   "metadata": {
    "collapsed": false
   },
   "outputs": [
    {
     "data": {
      "text/plain": [
       "(792L, 192L)"
      ]
     },
     "execution_count": 10,
     "metadata": {},
     "output_type": "execute_result"
    }
   ],
   "source": [
    "#fitting the new train data with pca with no n_components identified\n",
    "pca = PCA()\n",
    "ptrain = pca.fit(X_train).transform(X_train)\n",
    "ptrain.shape"
   ]
  },
  {
   "cell_type": "code",
   "execution_count": 13,
   "metadata": {
    "collapsed": false
   },
   "outputs": [
    {
     "data": {
      "text/plain": [
       "(0, 192)"
      ]
     },
     "execution_count": 13,
     "metadata": {},
     "output_type": "execute_result"
    },
    {
     "data": {
      "image/png": "[encoded data removed]",
      "text/plain": [
       "<matplotlib.figure.Figure at 0xda3acf8>"
      ]
     },
     "metadata": {},
     "output_type": "display_data"
    }
   ],
   "source": [
    "#plotting the variability captured per principal component\n",
    "plt.plot(range(192), np.cumsum(pca.explained_variance_ratio_))\n",
    "plt.title('Principal Components vs Variability Captured', fontsize = 20)\n",
    "plt.xlabel('Principal Components')\n",
    "plt.ylabel('Variability Captured')\n",
    "plt.ylim(0,1)\n",
    "plt.xlim(0,192)"
   ]
  },
  {
   "cell_type": "code",
   "execution_count": 14,
   "metadata": {
    "collapsed": true
   },
   "outputs": [],
   "source": [
    "#refitting to the train data but this time specifying 130 components, transforming train and validation\n",
    "pca = PCA(n_components = 130)\n",
    "X_train = pca.fit(X_train).transform(X_train)\n",
    "X_test = pca.transform(X_test)"
   ]
  },
  {
   "cell_type": "markdown",
   "metadata": {},
   "source": [
    "# Benchmark with Tuned KNN"
   ]
  },
  {
   "cell_type": "code",
   "execution_count": 85,
   "metadata": {
    "collapsed": false
   },
   "outputs": [],
   "source": [
    "#using grid search on weights and n_neighbors for KNN classifier\n",
    "parameters = {'weights':('distance','uniform'),'n_neighbors': [2,3,4,5,6,7,8,9]}\n",
    "knn = KNeighborsClassifier()\n",
    "logloss = make_scorer(log_loss,greater_is_better=False, needs_proba=True)\n",
    "grid_obj = GridSearchCV(estimator=knn, param_grid = parameters, scoring = logloss)"
   ]
  },
  {
   "cell_type": "code",
   "execution_count": 86,
   "metadata": {
    "collapsed": false
   },
   "outputs": [
    {
     "data": {
      "text/plain": [
       "GridSearchCV(cv=None, error_score='raise',\n",
       "       estimator=KNeighborsClassifier(algorithm='auto', leaf_size=30, metric='minkowski',\n",
       "           metric_params=None, n_jobs=1, n_neighbors=5, p=2,\n",
       "           weights='uniform'),\n",
       "       fit_params={}, iid=True, n_jobs=1,\n",
       "       param_grid={'n_neighbors': [2, 3, 4, 5, 6, 7, 8, 9], 'weights': ('distance', 'uniform')},\n",
       "       pre_dispatch='2*n_jobs', refit=True,\n",
       "       scoring=make_scorer(log_loss, greater_is_better=False, needs_proba=True),\n",
       "       verbose=0)"
      ]
     },
     "execution_count": 86,
     "metadata": {},
     "output_type": "execute_result"
    }
   ],
   "source": [
    "grid_obj.fit(X_train,y_train)"
   ]
  },
  {
   "cell_type": "code",
   "execution_count": 87,
   "metadata": {
    "collapsed": false
   },
   "outputs": [],
   "source": [
    "clf = grid_obj.best_estimator_"
   ]
  },
  {
   "cell_type": "code",
   "execution_count": 90,
   "metadata": {
    "collapsed": false
   },
   "outputs": [
    {
     "data": {
      "text/plain": [
       "KNeighborsClassifier(algorithm='auto', leaf_size=30, metric='minkowski',\n",
       "           metric_params=None, n_jobs=1, n_neighbors=4, p=2,\n",
       "           weights='distance')"
      ]
     },
     "execution_count": 90,
     "metadata": {},
     "output_type": "execute_result"
    }
   ],
   "source": [
    "#best model shows a weights of distance and an n_neighbors of 4\n",
    "grid_obj.best_estimator_"
   ]
  },
  {
   "cell_type": "code",
   "execution_count": 94,
   "metadata": {
    "collapsed": false
   },
   "outputs": [],
   "source": [
    "#using the best model to predict the validation set \n",
    "preds = clf.predict_proba(X_test)\n",
    "#getting the logloss of the predictions against the real values\n",
    "logloss = log_loss(y_test,preds)"
   ]
  },
  {
   "cell_type": "code",
   "execution_count": 95,
   "metadata": {
    "collapsed": false
   },
   "outputs": [
    {
     "name": "stdout",
     "output_type": "stream",
     "text": [
      "The tuned KNN model has a logloss of 0.0580618391794 with n_neighbors equal to 4 and using the weights distance\n"
     ]
    }
   ],
   "source": [
    "print 'The tuned KNN model has a logloss of', logloss,'with n_neighbors equal to 4 and using the weights distance'"
   ]
  },
  {
   "cell_type": "markdown",
   "metadata": {},
   "source": [
    "# Training Neural Networks"
   ]
  },
  {
   "cell_type": "code",
   "execution_count": 96,
   "metadata": {
    "collapsed": true
   },
   "outputs": [],
   "source": [
    "#setting the seed so the same randome number sequence is used\n",
    "np.random.seed(0)"
   ]
  },
  {
   "cell_type": "code",
   "execution_count": 100,
   "metadata": {
    "collapsed": true
   },
   "outputs": [],
   "source": [
    "#to_categorical will one-hot encode the 99 classes necessary duing model fitting\n",
    "y_trainkeras = to_categorical(y_train)"
   ]
  },
  {
   "cell_type": "markdown",
   "metadata": {},
   "source": [
    "# Trial 1"
   ]
  },
  {
   "cell_type": "code",
   "execution_count": 107,
   "metadata": {
    "collapsed": true
   },
   "outputs": [],
   "source": [
    "#2-layer neural network as first run\n",
    "model = Sequential()\n",
    "model.add(Dense(1024,input_dim=130,  init='uniform', activation='relu'))\n",
    "model.add(Dense(99, activation='softmax'))\n",
    "model.compile(loss='categorical_crossentropy',optimizer='rmsprop', metrics = [\"accuracy\"])"
   ]
  },
  {
   "cell_type": "code",
   "execution_count": 110,
   "metadata": {
    "collapsed": true
   },
   "outputs": [
    {
     "name": "stdout",
     "output_type": "stream",
     "text": [
      "Epoch 1/30\n",
      "792/792 [==============================] - 156s - loss: 3.6811 - acc: 0.3725   \n",
      "Epoch 2/30\n",
      "792/792 [==============================] - 155s - loss: 1.7789 - acc: 0.9419   \n",
      "Epoch 3/30\n",
      "792/792 [==============================] - 155s - loss: 0.9460 - acc: 0.9861   \n",
      "Epoch 4/30\n",
      "792/792 [==============================] - 153s - loss: 0.5161 - acc: 0.9937   \n",
      "Epoch 5/30\n",
      "792/792 [==============================] - 153s - loss: 0.3000 - acc: 0.9987   \n",
      "Epoch 6/30\n",
      "792/792 [==============================] - 156s - loss: 0.1835 - acc: 0.9987   \n",
      "Epoch 7/30\n",
      "792/792 [==============================] - 153s - loss: 0.1158 - acc: 1.0000   \n",
      "Epoch 8/30\n",
      "792/792 [==============================] - 153s - loss: 0.0762 - acc: 1.0000   \n",
      "Epoch 9/30\n",
      "792/792 [==============================] - 157s - loss: 0.0507 - acc: 1.0000   \n",
      "Epoch 10/30\n",
      "792/792 [==============================] - 153s - loss: 0.0344 - acc: 1.0000   \n",
      "Epoch 11/30\n",
      "792/792 [==============================] - 153s - loss: 0.0231 - acc: 1.0000   \n",
      "Epoch 12/30\n",
      "792/792 [==============================] - 155s - loss: 0.0160 - acc: 1.0000   \n",
      "Epoch 13/30\n",
      "792/792 [==============================] - 153s - loss: 0.0115 - acc: 1.0000   \n",
      "Epoch 14/30\n",
      "792/792 [==============================] - 154s - loss: 0.0078 - acc: 1.0000   \n",
      "Epoch 15/30\n",
      "792/792 [==============================] - 158s - loss: 0.0057 - acc: 1.0000   \n",
      "Epoch 16/30\n",
      "792/792 [==============================] - 155s - loss: 0.0039 - acc: 1.0000   \n",
      "Epoch 17/30\n",
      "792/792 [==============================] - 156s - loss: 0.0028 - acc: 1.0000   \n",
      "Epoch 18/30\n",
      "792/792 [==============================] - 156s - loss: 0.0020 - acc: 1.0000   \n",
      "Epoch 19/30\n",
      "792/792 [==============================] - 155s - loss: 0.0014 - acc: 1.0000   \n",
      "Epoch 20/30\n",
      "792/792 [==============================] - 156s - loss: 9.7101e-04 - acc: 1.0000   \n",
      "Epoch 21/30\n",
      "792/792 [==============================] - 155s - loss: 6.9848e-04 - acc: 1.0000   \n",
      "Epoch 22/30\n",
      "792/792 [==============================] - 168s - loss: 4.8475e-04 - acc: 1.0000   \n",
      "Epoch 23/30\n",
      "792/792 [==============================] - 190s - loss: 3.4613e-04 - acc: 1.0000   \n",
      "Epoch 24/30\n",
      "792/792 [==============================] - 159s - loss: 2.4451e-04 - acc: 1.0000   \n",
      "Epoch 25/30\n",
      "792/792 [==============================] - 157s - loss: 1.6943e-04 - acc: 1.0000   \n",
      "Epoch 26/30\n",
      "792/792 [==============================] - 166s - loss: 1.2126e-04 - acc: 1.0000   \n",
      "Epoch 27/30\n",
      "792/792 [==============================] - 156s - loss: 8.4906e-05 - acc: 1.0000   \n",
      "Epoch 28/30\n",
      "792/792 [==============================] - 186s - loss: 6.1654e-05 - acc: 1.0000   \n",
      "Epoch 29/30\n",
      "792/792 [==============================] - 214s - loss: 4.2346e-05 - acc: 1.0000   \n",
      "Epoch 30/30\n",
      "792/792 [==============================] - 146s - loss: 2.9932e-05 - acc: 1.0000   \n"
     ]
    }
   ],
   "source": [
    "#fitting the model with train data and one hot encoded y variable\n",
    "history = model.fit(X_train, y_trainkeras, batch_size = 128, nb_epoch=30,verbose=1)"
   ]
  },
  {
   "cell_type": "code",
   "execution_count": 111,
   "metadata": {
    "collapsed": false
   },
   "outputs": [
    {
     "data": {
      "text/plain": [
       "<matplotlib.text.Text at 0x13327940>"
      ]
     },
     "execution_count": 111,
     "metadata": {},
     "output_type": "execute_result"
    },
    {
     "data": {
      "image/png": "[encoded data removed]",
      "text/plain": [
       "<matplotlib.figure.Figure at 0x1328fe80>"
      ]
     },
     "metadata": {},
     "output_type": "display_data"
    }
   ],
   "source": [
    "#plotting train error for this model against number of epochs\n",
    "plt.plot(history.history['loss'],'o-')\n",
    "plt.xlabel('Number of Iterations')\n",
    "plt.ylabel('Categorical Crossentropy')\n",
    "plt.title('Train Error vs Number of Iterations')"
   ]
  },
  {
   "cell_type": "code",
   "execution_count": 112,
   "metadata": {
    "collapsed": false
   },
   "outputs": [
    {
     "name": "stdout",
     "output_type": "stream",
     "text": [
      "198/198 [==============================] - 4s     \n"
     ]
    }
   ],
   "source": [
    "#getting the predictions for the model using predict_proba and getting the logloss of these predictions with the real y values\n",
    "trial1 = model.predict_proba(X_test)\n",
    "trial1score = log_loss(y_test, trial1)"
   ]
  },
  {
   "cell_type": "code",
   "execution_count": 113,
   "metadata": {
    "collapsed": false
   },
   "outputs": [
    {
     "name": "stdout",
     "output_type": "stream",
     "text": [
      "The validation score for neural networks first trial is 0.00693362590031\n"
     ]
    }
   ],
   "source": [
    "print 'The validation score for neural networks first trial is', trial1score"
   ]
  },
  {
   "cell_type": "markdown",
   "metadata": {},
   "source": [
    "Getting a CSV Output for Trial 1"
   ]
  },
  {
   "cell_type": "code",
   "execution_count": null,
   "metadata": {
    "collapsed": true
   },
   "outputs": [],
   "source": [
    "#preprocessing the real test set using scaler-standardization and pca that was used to fit the train data\n",
    "test = test.reset_index()\n",
    "ID = test.pop('id')\n",
    "test = scaler.transform(test)\n",
    "test = pca.transform(test)"
   ]
  },
  {
   "cell_type": "code",
   "execution_count": 114,
   "metadata": {
    "collapsed": false
   },
   "outputs": [
    {
     "name": "stdout",
     "output_type": "stream",
     "text": [
      "594/594 [==============================] - 17s    \n"
     ]
    }
   ],
   "source": [
    "#using the model to predict the test data\n",
    "preds = model.predict_proba(test)\n",
    "#creating the formatting requirements for submission to kaggle website\n",
    "preds = pd.DataFrame(preds)\n",
    "preds = preds.set_index(ID).reset_index()\n",
    "preds.set_index('id',inplace=True)\n",
    "preds.columns = lespecies.classes_\n",
    "preds.reset_index(inplace=True)\n",
    "#exporting as csv\n",
    "preds.to_csv('leaves3.csv',index=False)"
   ]
  },
  {
   "cell_type": "markdown",
   "metadata": {},
   "source": [
    "# Trial 2"
   ]
  },
  {
   "cell_type": "code",
   "execution_count": 97,
   "metadata": {
    "collapsed": true
   },
   "outputs": [],
   "source": [
    "#adding one more layer to the model in trial one\n",
    "model2 = Sequential()\n",
    "model2.add(Dense(1024,input_dim=130,  init='uniform', activation='relu'))\n",
    "#adding dropouts to regularize the model\n",
    "model2.add(Dropout(0.2))\n",
    "model2.add(Dense(512, activation='sigmoid'))\n",
    "model2.add(Dropout(0.3))\n",
    "model2.add(Dense(99, activation='softmax'))\n",
    "model2.compile(loss='categorical_crossentropy',optimizer='rmsprop', metrics = [\"accuracy\"])"
   ]
  },
  {
   "cell_type": "code",
   "execution_count": 101,
   "metadata": {
    "collapsed": true
   },
   "outputs": [
    {
     "name": "stdout",
     "output_type": "stream",
     "text": [
      "Epoch 1/30\n",
      "792/792 [==============================] - 510s - loss: 4.4962 - acc: 0.0619    \n",
      "Epoch 2/30\n",
      "792/792 [==============================] - 546s - loss: 3.4872 - acc: 0.3472    \n",
      "Epoch 3/30\n",
      "792/792 [==============================] - 503s - loss: 2.8473 - acc: 0.6035    \n",
      "Epoch 4/30\n",
      "792/792 [==============================] - 482s - loss: 2.2360 - acc: 0.7563    \n",
      "Epoch 5/30\n",
      "792/792 [==============================] - 470s - loss: 1.7848 - acc: 0.8460    \n",
      "Epoch 6/30\n",
      "792/792 [==============================] - 508s - loss: 1.3545 - acc: 0.9104    \n",
      "Epoch 7/30\n",
      "792/792 [==============================] - 520s - loss: 1.0611 - acc: 0.9306    \n",
      "Epoch 8/30\n",
      "792/792 [==============================] - 521s - loss: 0.7970 - acc: 0.9634    \n",
      "Epoch 9/30\n",
      "792/792 [==============================] - 553s - loss: 0.5860 - acc: 0.9823    \n",
      "Epoch 10/30\n",
      "792/792 [==============================] - 533s - loss: 0.4478 - acc: 0.9861    \n",
      "Epoch 11/30\n",
      "792/792 [==============================] - 466s - loss: 0.3471 - acc: 0.9924    \n",
      "Epoch 12/30\n",
      "792/792 [==============================] - 589s - loss: 0.2573 - acc: 0.9949    \n",
      "Epoch 13/30\n",
      "792/792 [==============================] - 501s - loss: 0.2025 - acc: 0.9962    \n",
      "Epoch 14/30\n",
      "792/792 [==============================] - 480s - loss: 0.1509 - acc: 1.0000    \n",
      "Epoch 15/30\n",
      "792/792 [==============================] - 466s - loss: 0.1252 - acc: 0.9912    \n",
      "Epoch 16/30\n",
      "792/792 [==============================] - 481s - loss: 0.0931 - acc: 1.0000    \n",
      "Epoch 17/30\n",
      "792/792 [==============================] - 515s - loss: 0.0720 - acc: 0.9987    \n",
      "Epoch 18/30\n",
      "792/792 [==============================] - 476s - loss: 0.0586 - acc: 1.0000    \n",
      "Epoch 19/30\n",
      "792/792 [==============================] - 552s - loss: 0.0432 - acc: 0.9987    \n",
      "Epoch 20/30\n",
      "792/792 [==============================] - 455s - loss: 0.0360 - acc: 1.0000    \n",
      "Epoch 21/30\n",
      "792/792 [==============================] - 470s - loss: 0.0267 - acc: 1.0000    \n",
      "Epoch 22/30\n",
      "792/792 [==============================] - 469s - loss: 0.0200 - acc: 1.0000    \n",
      "Epoch 23/30\n",
      "792/792 [==============================] - 543s - loss: 0.0188 - acc: 0.9987    \n",
      "Epoch 24/30\n",
      "792/792 [==============================] - 506s - loss: 0.0127 - acc: 1.0000    \n",
      "Epoch 25/30\n",
      "792/792 [==============================] - 465s - loss: 0.0105 - acc: 1.0000    \n",
      "Epoch 26/30\n",
      "792/792 [==============================] - 506s - loss: 0.0083 - acc: 1.0000    \n",
      "Epoch 27/30\n",
      "792/792 [==============================] - 491s - loss: 0.0075 - acc: 1.0000    \n",
      "Epoch 28/30\n",
      "792/792 [==============================] - 496s - loss: 0.0057 - acc: 1.0000    \n",
      "Epoch 29/30\n",
      "792/792 [==============================] - 570s - loss: 0.0043 - acc: 1.0000    \n",
      "Epoch 30/30\n",
      "792/792 [==============================] - 540s - loss: 0.0037 - acc: 1.0000    \n"
     ]
    }
   ],
   "source": [
    "history2 = model2.fit(X_train,y_trainkeras,batch_size = 128, nb_epoch=30,verbose=1)"
   ]
  },
  {
   "cell_type": "code",
   "execution_count": 102,
   "metadata": {
    "collapsed": false
   },
   "outputs": [
    {
     "data": {
      "text/plain": [
       "<matplotlib.text.Text at 0x12f2dc18>"
      ]
     },
     "execution_count": 102,
     "metadata": {},
     "output_type": "execute_result"
    },
    {
     "data": {
      "image/png": "[encoded data removed]",
      "text/plain": [
       "<matplotlib.figure.Figure at 0x127c3da0>"
      ]
     },
     "metadata": {},
     "output_type": "display_data"
    }
   ],
   "source": [
    "#plotting train error for this model against number of epochs\n",
    "plt.plot(history2.history['loss'],'o-')\n",
    "plt.xlabel('Number of Iterations')\n",
    "plt.ylabel('Categorical Crossentropy')\n",
    "plt.title('Train Error vs Number of Iterations')"
   ]
  },
  {
   "cell_type": "code",
   "execution_count": 103,
   "metadata": {
    "collapsed": false
   },
   "outputs": [
    {
     "name": "stdout",
     "output_type": "stream",
     "text": [
      "198/198 [==============================] - 22s    \n"
     ]
    }
   ],
   "source": [
    "#getting the predictions for the model using predict_proba and getting the logloss of these predictions with the real y values\n",
    "trial2 = model2.predict_proba(X_test)\n",
    "trial2score = log_loss(y_test, trial2)"
   ]
  },
  {
   "cell_type": "code",
   "execution_count": 150,
   "metadata": {
    "collapsed": false
   },
   "outputs": [
    {
     "name": "stdout",
     "output_type": "stream",
     "text": [
      "The validation score for neural networks second trial is 0.0171678940185\n"
     ]
    }
   ],
   "source": [
    "print 'The validation score for neural networks second trial is', trial2score"
   ]
  },
  {
   "cell_type": "markdown",
   "metadata": {},
   "source": [
    "Getting a CSV Output for Trial 2"
   ]
  },
  {
   "cell_type": "code",
   "execution_count": 106,
   "metadata": {
    "collapsed": false
   },
   "outputs": [
    {
     "name": "stdout",
     "output_type": "stream",
     "text": [
      "594/594 [==============================] - 76s    \n"
     ]
    }
   ],
   "source": [
    "#using the model to predict the test data\n",
    "preds = model2.predict_proba(test)\n",
    "#creating the formatting requirements for submission to kaggle website\n",
    "preds = pd.DataFrame(preds)\n",
    "preds = preds.set_index(ID).reset_index()\n",
    "preds.set_index('id',inplace=True)\n",
    "preds.columns = lespecies.classes_\n",
    "preds.reset_index(inplace=True)\n",
    "#exporting as csv\n",
    "preds.to_csv('leaves2.csv',index=False)"
   ]
  },
  {
   "cell_type": "markdown",
   "metadata": {},
   "source": [
    "# Trial 3"
   ]
  },
  {
   "cell_type": "code",
   "execution_count": 127,
   "metadata": {
    "collapsed": true
   },
   "outputs": [],
   "source": [
    "#using the same model as trial one but with optimizer adam\n",
    "model4 = Sequential()\n",
    "model4.add(Dense(1024,input_dim=130,  init='uniform', activation='relu'))\n",
    "model4.add(Dense(99, activation='softmax'))\n",
    "model4.compile(loss='categorical_crossentropy',optimizer='adam', metrics = [\"accuracy\"])"
   ]
  },
  {
   "cell_type": "code",
   "execution_count": 128,
   "metadata": {
    "collapsed": true
   },
   "outputs": [
    {
     "name": "stdout",
     "output_type": "stream",
     "text": [
      "Epoch 1/30\n",
      "792/792 [==============================] - 187s - loss: 4.1490 - acc: 0.1881   \n",
      "Epoch 2/30\n",
      "792/792 [==============================] - 186s - loss: 2.6517 - acc: 0.8674   \n",
      "Epoch 3/30\n",
      "792/792 [==============================] - 185s - loss: 1.5853 - acc: 0.9924   \n",
      "Epoch 4/30\n",
      "792/792 [==============================] - 194s - loss: 0.8771 - acc: 0.9962   \n",
      "Epoch 5/30\n",
      "792/792 [==============================] - 187s - loss: 0.4646 - acc: 0.9962   \n",
      "Epoch 6/30\n",
      "792/792 [==============================] - 186s - loss: 0.2539 - acc: 0.9975   \n",
      "Epoch 7/30\n",
      "792/792 [==============================] - 185s - loss: 0.1548 - acc: 0.9987   \n",
      "Epoch 8/30\n",
      "792/792 [==============================] - 184s - loss: 0.1032 - acc: 1.0000   \n",
      "Epoch 9/30\n",
      "792/792 [==============================] - 190s - loss: 0.0751 - acc: 1.0000   \n",
      "Epoch 10/30\n",
      "792/792 [==============================] - 192s - loss: 0.0589 - acc: 1.0000   \n",
      "Epoch 11/30\n",
      "792/792 [==============================] - 199s - loss: 0.0482 - acc: 1.0000   \n",
      "Epoch 12/30\n",
      "792/792 [==============================] - 192s - loss: 0.0404 - acc: 1.0000   \n",
      "Epoch 13/30\n",
      "792/792 [==============================] - 194s - loss: 0.0348 - acc: 1.0000   \n",
      "Epoch 14/30\n",
      "792/792 [==============================] - 216s - loss: 0.0303 - acc: 1.0000   \n",
      "Epoch 15/30\n",
      "792/792 [==============================] - 200s - loss: 0.0270 - acc: 1.0000   \n",
      "Epoch 16/30\n",
      "792/792 [==============================] - 187s - loss: 0.0244 - acc: 1.0000   \n",
      "Epoch 17/30\n",
      "792/792 [==============================] - 189s - loss: 0.0221 - acc: 1.0000   \n",
      "Epoch 18/30\n",
      "792/792 [==============================] - 194s - loss: 0.0201 - acc: 1.0000   \n",
      "Epoch 19/30\n",
      "792/792 [==============================] - 193s - loss: 0.0184 - acc: 1.0000   \n",
      "Epoch 20/30\n",
      "792/792 [==============================] - 184s - loss: 0.0170 - acc: 1.0000   \n",
      "Epoch 21/30\n",
      "792/792 [==============================] - 190s - loss: 0.0157 - acc: 1.0000   \n",
      "Epoch 22/30\n",
      "792/792 [==============================] - 185s - loss: 0.0146 - acc: 1.0000   \n",
      "Epoch 23/30\n",
      "792/792 [==============================] - 177s - loss: 0.0136 - acc: 1.0000   \n",
      "Epoch 24/30\n",
      "792/792 [==============================] - 187s - loss: 0.0128 - acc: 1.0000   \n",
      "Epoch 25/30\n",
      "792/792 [==============================] - 191s - loss: 0.0120 - acc: 1.0000   \n",
      "Epoch 26/30\n",
      "792/792 [==============================] - 194s - loss: 0.0112 - acc: 1.0000   \n",
      "Epoch 27/30\n",
      "792/792 [==============================] - 186s - loss: 0.0106 - acc: 1.0000   \n",
      "Epoch 28/30\n",
      "792/792 [==============================] - 189s - loss: 0.0100 - acc: 1.0000   \n",
      "Epoch 29/30\n",
      "792/792 [==============================] - 186s - loss: 0.0094 - acc: 1.0000   \n",
      "Epoch 30/30\n",
      "792/792 [==============================] - 189s - loss: 0.0089 - acc: 1.0000   \n"
     ]
    }
   ],
   "source": [
    "history4 = model4.fit(X_train,y_trainkeras,batch_size = 128, nb_epoch=30,verbose=1)"
   ]
  },
  {
   "cell_type": "code",
   "execution_count": 129,
   "metadata": {
    "collapsed": false
   },
   "outputs": [
    {
     "name": "stdout",
     "output_type": "stream",
     "text": [
      "198/198 [==============================] - 4s     \n"
     ]
    }
   ],
   "source": [
    "#getting the predictions for the model using predict_proba and getting the logloss of these predictions with the real y values\n",
    "trial4 = model4.predict_proba(X_test)\n",
    "trial4score = log_loss(y_test, trial4)"
   ]
  },
  {
   "cell_type": "code",
   "execution_count": 173,
   "metadata": {
    "collapsed": false
   },
   "outputs": [
    {
     "name": "stdout",
     "output_type": "stream",
     "text": [
      "The validation score for neural networks third trial is 0.0554586012\n"
     ]
    }
   ],
   "source": [
    "print 'The validation score for neural networks third trial is', trial4score"
   ]
  },
  {
   "cell_type": "markdown",
   "metadata": {},
   "source": [
    "Getting a CSV Output for Trial 3"
   ]
  },
  {
   "cell_type": "code",
   "execution_count": 138,
   "metadata": {
    "collapsed": false
   },
   "outputs": [
    {
     "name": "stdout",
     "output_type": "stream",
     "text": [
      "594/594 [==============================] - 15s    \n"
     ]
    }
   ],
   "source": [
    "#using the model to predict the test data\n",
    "preds = model4.predict_proba(test)\n",
    "#creating the formatting requirements for submission to kaggle website\n",
    "preds = pd.DataFrame(preds)\n",
    "preds = preds.set_index(ID).reset_index()\n",
    "preds.set_index('id',inplace=True)\n",
    "preds.columns = lespecies.classes_\n",
    "preds.reset_index(inplace=True)\n",
    "#exporting as csv\n",
    "preds.to_csv('leaves-adam.csv',index=False)"
   ]
  },
  {
   "cell_type": "markdown",
   "metadata": {},
   "source": [
    "# Trial 4"
   ]
  },
  {
   "cell_type": "code",
   "execution_count": 142,
   "metadata": {
    "collapsed": true
   },
   "outputs": [],
   "source": [
    "#using the same model as trial one but with activation sigmoid\n",
    "model5 = Sequential()\n",
    "model5.add(Dense(1024,input_dim=130,  init='uniform', activation='sigmoid'))\n",
    "model5.add(Dense(99, activation='softmax'))\n",
    "model5.compile(loss='categorical_crossentropy',optimizer='rmsprop', metrics = [\"accuracy\"])"
   ]
  },
  {
   "cell_type": "code",
   "execution_count": 143,
   "metadata": {
    "collapsed": true
   },
   "outputs": [
    {
     "name": "stdout",
     "output_type": "stream",
     "text": [
      "Epoch 1/30\n",
      "792/792 [==============================] - 164s - loss: 4.7488 - acc: 0.0366   \n",
      "Epoch 2/30\n",
      "792/792 [==============================] - 147s - loss: 4.0151 - acc: 0.2487   \n",
      "Epoch 3/30\n",
      "792/792 [==============================] - 126s - loss: 3.5999 - acc: 0.4444   \n",
      "Epoch 4/30\n",
      "792/792 [==============================] - 127s - loss: 3.1743 - acc: 0.5505   \n",
      "Epoch 5/30\n",
      "792/792 [==============================] - 139s - loss: 2.8673 - acc: 0.6730   \n",
      "Epoch 6/30\n",
      "792/792 [==============================] - 148s - loss: 2.5161 - acc: 0.7664   \n",
      "Epoch 7/30\n",
      "792/792 [==============================] - 153s - loss: 2.2310 - acc: 0.8384   \n",
      "Epoch 8/30\n",
      "792/792 [==============================] - 148s - loss: 1.9326 - acc: 0.8801   \n",
      "Epoch 9/30\n",
      "792/792 [==============================] - 156s - loss: 1.6697 - acc: 0.9116   \n",
      "Epoch 10/30\n",
      "792/792 [==============================] - 151s - loss: 1.4194 - acc: 0.9495   \n",
      "Epoch 11/30\n",
      "792/792 [==============================] - 147s - loss: 1.2064 - acc: 0.9672   \n",
      "Epoch 12/30\n",
      "792/792 [==============================] - 160s - loss: 1.0285 - acc: 0.9697   \n",
      "Epoch 13/30\n",
      "792/792 [==============================] - 153s - loss: 0.8470 - acc: 0.9874   \n",
      "Epoch 14/30\n",
      "792/792 [==============================] - 160s - loss: 0.7101 - acc: 0.9861   \n",
      "Epoch 15/30\n",
      "792/792 [==============================] - 154s - loss: 0.5835 - acc: 0.9912   \n",
      "Epoch 16/30\n",
      "792/792 [==============================] - 174s - loss: 0.4846 - acc: 0.9937   \n",
      "Epoch 17/30\n",
      "792/792 [==============================] - 151s - loss: 0.4084 - acc: 0.9962   \n",
      "Epoch 18/30\n",
      "792/792 [==============================] - 141s - loss: 0.3343 - acc: 0.9975   \n",
      "Epoch 19/30\n",
      "792/792 [==============================] - 117s - loss: 0.2754 - acc: 0.9962   \n",
      "Epoch 20/30\n",
      "792/792 [==============================] - 120s - loss: 0.2283 - acc: 0.9962   \n",
      "Epoch 21/30\n",
      "792/792 [==============================] - 115s - loss: 0.1948 - acc: 0.9962   \n",
      "Epoch 22/30\n",
      "792/792 [==============================] - 116s - loss: 0.1598 - acc: 0.9987   \n",
      "Epoch 23/30\n",
      "792/792 [==============================] - 114s - loss: 0.1295 - acc: 1.0000   \n",
      "Epoch 24/30\n",
      "792/792 [==============================] - 116s - loss: 0.1116 - acc: 1.0000   \n",
      "Epoch 25/30\n",
      "792/792 [==============================] - 116s - loss: 0.0917 - acc: 1.0000   \n",
      "Epoch 26/30\n",
      "792/792 [==============================] - 117s - loss: 0.0760 - acc: 1.0000   \n",
      "Epoch 27/30\n",
      "792/792 [==============================] - 115s - loss: 0.0632 - acc: 1.0000   \n",
      "Epoch 28/30\n",
      "792/792 [==============================] - 116s - loss: 0.0521 - acc: 1.0000   \n",
      "Epoch 29/30\n",
      "792/792 [==============================] - 115s - loss: 0.0447 - acc: 1.0000   \n",
      "Epoch 30/30\n",
      "792/792 [==============================] - 114s - loss: 0.0368 - acc: 1.0000   \n"
     ]
    }
   ],
   "source": [
    "history5 = model5.fit(X_train,y_trainkeras,batch_size = 128, nb_epoch=30,verbose=1)"
   ]
  },
  {
   "cell_type": "code",
   "execution_count": 144,
   "metadata": {
    "collapsed": false
   },
   "outputs": [
    {
     "name": "stdout",
     "output_type": "stream",
     "text": [
      "198/198 [==============================] - 2s     \n"
     ]
    }
   ],
   "source": [
    "#getting the predictions for the model using predict_proba and getting the logloss of these predictions with the real y values\n",
    "trial5 = model5.predict_proba(X_test)\n",
    "trial5score = log_loss(y_test, trial5)"
   ]
  },
  {
   "cell_type": "code",
   "execution_count": 174,
   "metadata": {
    "collapsed": false
   },
   "outputs": [
    {
     "name": "stdout",
     "output_type": "stream",
     "text": [
      "The validation score for neural networks fourth trial is 0.11054457164\n"
     ]
    }
   ],
   "source": [
    "print 'The validation score for neural networks fourth trial is', trial5score"
   ]
  },
  {
   "cell_type": "markdown",
   "metadata": {},
   "source": [
    "Getting CSV Output for Trial 4"
   ]
  },
  {
   "cell_type": "code",
   "execution_count": 170,
   "metadata": {
    "collapsed": false
   },
   "outputs": [
    {
     "name": "stdout",
     "output_type": "stream",
     "text": [
      "594/594 [==============================] - 20s    \n"
     ]
    }
   ],
   "source": [
    "#using the model to predict the test data\n",
    "preds = model5.predict_proba(test)\n",
    "#creating the formatting requirements for submission to kaggle website\n",
    "preds = pd.DataFrame(preds)\n",
    "preds = preds.set_index(ID).reset_index()\n",
    "preds.set_index('id',inplace=True)\n",
    "preds.columns = lespecies.classes_\n",
    "preds.reset_index(inplace=True)\n",
    "#exporting as csv\n",
    "preds.to_csv('leaves-sigmoid.csv',index=False)"
   ]
  },
  {
   "cell_type": "markdown",
   "metadata": {},
   "source": [
    "# Trial 5"
   ]
  },
  {
   "cell_type": "code",
   "execution_count": 146,
   "metadata": {
    "collapsed": true
   },
   "outputs": [],
   "source": [
    "#using the same model as trial one but with initialization as normal\n",
    "model6 = Sequential()\n",
    "model6.add(Dense(1024,input_dim=130,  init='normal', activation='relu'))\n",
    "model6.add(Dense(99, activation='softmax'))\n",
    "model6.compile(loss='categorical_crossentropy',optimizer='rmsprop', metrics = [\"accuracy\"])"
   ]
  },
  {
   "cell_type": "code",
   "execution_count": 147,
   "metadata": {
    "collapsed": true
   },
   "outputs": [
    {
     "name": "stdout",
     "output_type": "stream",
     "text": [
      "Epoch 1/30\n",
      "792/792 [==============================] - 123s - loss: 3.5638 - acc: 0.3712   \n",
      "Epoch 2/30\n",
      "792/792 [==============================] - 137s - loss: 1.4007 - acc: 0.9280   \n",
      "Epoch 3/30\n",
      "792/792 [==============================] - 136s - loss: 0.6846 - acc: 0.9861   \n",
      "Epoch 4/30\n",
      "792/792 [==============================] - 135s - loss: 0.3640 - acc: 0.9949   \n",
      "Epoch 5/30\n",
      "792/792 [==============================] - 134s - loss: 0.2191 - acc: 0.9987   \n",
      "Epoch 6/30\n",
      "792/792 [==============================] - 135s - loss: 0.1370 - acc: 1.0000   \n",
      "Epoch 7/30\n",
      "792/792 [==============================] - 133s - loss: 0.0891 - acc: 1.0000   \n",
      "Epoch 8/30\n",
      "792/792 [==============================] - 132s - loss: 0.0595 - acc: 0.9987   \n",
      "Epoch 9/30\n",
      "792/792 [==============================] - 136s - loss: 0.0399 - acc: 1.0000   \n",
      "Epoch 10/30\n",
      "792/792 [==============================] - 131s - loss: 0.0273 - acc: 1.0000   \n",
      "Epoch 11/30\n",
      "792/792 [==============================] - 123s - loss: 0.0191 - acc: 1.0000   \n",
      "Epoch 12/30\n",
      "792/792 [==============================] - 133s - loss: 0.0135 - acc: 1.0000   \n",
      "Epoch 13/30\n",
      "792/792 [==============================] - 133s - loss: 0.0095 - acc: 1.0000   \n",
      "Epoch 14/30\n",
      "792/792 [==============================] - 132s - loss: 0.0067 - acc: 1.0000   \n",
      "Epoch 15/30\n",
      "792/792 [==============================] - 136s - loss: 0.0053 - acc: 1.0000   \n",
      "Epoch 16/30\n",
      "792/792 [==============================] - 138s - loss: 0.0035 - acc: 1.0000   \n",
      "Epoch 17/30\n",
      "792/792 [==============================] - 132s - loss: 0.0024 - acc: 1.0000   \n",
      "Epoch 18/30\n",
      "792/792 [==============================] - 135s - loss: 0.0017 - acc: 1.0000   \n",
      "Epoch 19/30\n",
      "792/792 [==============================] - 156s - loss: 0.0012 - acc: 1.0000   \n",
      "Epoch 20/30\n",
      "792/792 [==============================] - 144s - loss: 8.8865e-04 - acc: 1.0000   \n",
      "Epoch 21/30\n",
      "792/792 [==============================] - 144s - loss: 6.2869e-04 - acc: 1.0000   \n",
      "Epoch 22/30\n",
      "792/792 [==============================] - 141s - loss: 4.4682e-04 - acc: 1.0000   \n",
      "Epoch 23/30\n",
      "792/792 [==============================] - 145s - loss: 3.2826e-04 - acc: 1.0000   \n",
      "Epoch 24/30\n",
      "792/792 [==============================] - 152s - loss: 2.2704e-04 - acc: 1.0000   \n",
      "Epoch 25/30\n",
      "792/792 [==============================] - 141s - loss: 1.6284e-04 - acc: 1.0000   \n",
      "Epoch 26/30\n",
      "792/792 [==============================] - 143s - loss: 1.1500e-04 - acc: 1.0000   \n",
      "Epoch 27/30\n",
      "792/792 [==============================] - 137s - loss: 8.2445e-05 - acc: 1.0000   \n",
      "Epoch 28/30\n",
      "792/792 [==============================] - 138s - loss: 1.3018e-04 - acc: 1.0000   \n",
      "Epoch 29/30\n",
      "792/792 [==============================] - 150s - loss: 4.2612e-05 - acc: 1.0000   \n",
      "Epoch 30/30\n",
      "792/792 [==============================] - 128s - loss: 3.0683e-05 - acc: 1.0000   \n"
     ]
    }
   ],
   "source": [
    "history6 = model6.fit(X_train,y_trainkeras,batch_size = 128, nb_epoch=30,verbose=1)"
   ]
  },
  {
   "cell_type": "code",
   "execution_count": 148,
   "metadata": {
    "collapsed": false
   },
   "outputs": [
    {
     "name": "stdout",
     "output_type": "stream",
     "text": [
      "198/198 [==============================] - 4s     \n"
     ]
    }
   ],
   "source": [
    "#getting the predictions for the model using predict_proba and getting the logloss of these predictions with the real y values\n",
    "trial6 = model6.predict_proba(X_test)\n",
    "trial6score = log_loss(y_test, trial6)"
   ]
  },
  {
   "cell_type": "code",
   "execution_count": 149,
   "metadata": {
    "collapsed": false
   },
   "outputs": [
    {
     "name": "stdout",
     "output_type": "stream",
     "text": [
      "The validation score for neural networks sixth trial is 0.0124815864758\n"
     ]
    }
   ],
   "source": [
    "print 'The validation score for neural networks sixth trial is', trial6score"
   ]
  },
  {
   "cell_type": "markdown",
   "metadata": {},
   "source": [
    "Getting CSV Output for Trial 5"
   ]
  },
  {
   "cell_type": "code",
   "execution_count": 171,
   "metadata": {
    "collapsed": false
   },
   "outputs": [
    {
     "name": "stdout",
     "output_type": "stream",
     "text": [
      "594/594 [==============================] - 23s    \n"
     ]
    }
   ],
   "source": [
    "#using the model to predict the test data\n",
    "preds = model6.predict_proba(test)\n",
    "#creating the formatting requirements for submission to kaggle website\n",
    "preds = pd.DataFrame(preds)\n",
    "preds = preds.set_index(ID).reset_index()\n",
    "preds.set_index('id',inplace=True)\n",
    "preds.columns = lespecies.classes_\n",
    "preds.reset_index(inplace=True)\n",
    "#exporting as csv\n",
    "preds.to_csv('leaves-normal.csv',index=False)"
   ]
  }
 ],
 "metadata": {
  "kernelspec": {
   "display_name": "Python 2",
   "language": "python",
   "name": "python2"
  },
  "language_info": {
   "codemirror_mode": {
    "name": "ipython",
    "version": 2
   },
   "file_extension": ".py",
   "mimetype": "text/x-python",
   "name": "python",
   "nbconvert_exporter": "python",
   "pygments_lexer": "ipython2",
   "version": "2.7.11"
  }
 },
 "nbformat": 4,
 "nbformat_minor": 0
}
